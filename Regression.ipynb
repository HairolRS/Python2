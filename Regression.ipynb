{
 "cells": [
  {
   "cell_type": "markdown",
   "metadata": {},
   "source": [
    "# Regression"
   ]
  },
  {
   "cell_type": "markdown",
   "metadata": {},
   "source": [
    "In this tutorial, we'll explore regression models using Python's scikit learn (sklearn) package and the built data set. Please keep in mind that although regression is considerer one of the simplest or most basic machine learning techniques, a thorough understanding of the assumptions and limitations is essential for a correct interpretation of the results. "
   ]
  },
  {
   "cell_type": "markdown",
   "metadata": {},
   "source": [
    "We'll start by loading the linear_model and diabetes data set from sklearn. Note that we're only loading the components that we need for this exercise since the entire sklearn package is extremely large."
   ]
  },
  {
   "cell_type": "code",
   "execution_count": null,
   "metadata": {
    "collapsed": true
   },
   "outputs": [],
   "source": [
    "from sklearn import linear_model\n",
    "from sklearn.metrics import mean_squared_error, r2_score\n",
    "from sklearn.datasets import load_diabetes\n",
    "import numpy as np\n",
    "import matplotlib.pyplot as plt\n",
    "diabetes = load_diabetes()"
   ]
  },
  {
   "cell_type": "markdown",
   "metadata": {},
   "source": [
    "Let's take a look at the diabetes data set. We are interested in how the disease progression depends on factors such as age, sex, BMI (body mass index) and blood pressure. Note that these factors have been mean-centered and scaled by the standard deviation.\n",
    "\n",
    "The disease progression is the *dependent* variable and age, sex, BMI etc. are the *independent* variables."
   ]
  },
  {
   "cell_type": "code",
   "execution_count": null,
   "metadata": {},
   "outputs": [],
   "source": [
    "diabetes"
   ]
  },
  {
   "cell_type": "markdown",
   "metadata": {},
   "source": [
    "The linear regression fitting function (linear.fit) expects a 2D arrays for the data (# samples x # features). We'll start off by working with a single feature at a time. "
   ]
  },
  {
   "cell_type": "code",
   "execution_count": null,
   "metadata": {
    "collapsed": true
   },
   "outputs": [],
   "source": [
    "# Extract column corresponding to BMI from data set and convert to (n x 1) arrays\n",
    "bmi              = diabetes.data[:, np.newaxis, 2]\n",
    "disease_progress = diabetes.target"
   ]
  },
  {
   "cell_type": "markdown",
   "metadata": {},
   "source": [
    "Next we'll fit the model and use the model to calculate the expected disease progression. We also calculate the $R^2$ coefficient, which is the percentage of the change in the dependent variable that can be attributed to the change in the independent variable.\n",
    "\n",
    "$R^2 = 1 - \\frac{\\Sigma (y - ypred)^2}{\\Sigma (y - ymean)^2}$\n"
   ]
  },
  {
   "cell_type": "code",
   "execution_count": null,
   "metadata": {},
   "outputs": [],
   "source": [
    "# Create and fit the model\n",
    "regr = linear_model.LinearRegression()\n",
    "regr.fit(bmi, disease_progress)\n",
    "\n",
    "# Apply the model (predict the disease progression from BMI using linear model)\n",
    "disease_progress_pred = regr.predict(bmi)\n",
    "\n",
    "print('Intercept: ', regr.intercept_)\n",
    "print('Coefficient: ', regr.coef_[0])\n",
    "print('Variance score (R2): %.2f' % r2_score(disease_progress, disease_progress_pred))"
   ]
  },
  {
   "cell_type": "code",
   "execution_count": null,
   "metadata": {},
   "outputs": [],
   "source": [
    "plt.scatter(bmi, disease_progress,  color='black')\n",
    "plt.plot(bmi, disease_progress_pred, color='blue', linewidth=3)\n",
    "plt.xlabel('BMI')\n",
    "plt.ylabel('disease progression')\n",
    "\n",
    "plt.show()"
   ]
  },
  {
   "cell_type": "markdown",
   "metadata": {},
   "source": [
    "In this example, we used all the the available data to train the model. Normally in machine learning applications we want to set aside some of the data to test the model. This allows us to determine if our model has predictive value.\n",
    "\n",
    "Let's go back and divide our data into training and testing sets."
   ]
  },
  {
   "cell_type": "code",
   "execution_count": null,
   "metadata": {
    "collapsed": true
   },
   "outputs": [],
   "source": [
    "bmi_train = bmi[:-20] # All but last 20 elements\n",
    "bmi_test  = bmi[-20:] # Last 20 elements\n",
    "\n",
    "disease_progress_train = disease_progress[:-20] # All but last 20 elements\n",
    "disease_progress_test  = disease_progress[-20:] # Last 20 elements"
   ]
  },
  {
   "cell_type": "code",
   "execution_count": null,
   "metadata": {},
   "outputs": [],
   "source": [
    "# Create and fit the model\n",
    "regr = linear_model.LinearRegression()\n",
    "regr.fit(bmi_train, disease_progress_train)\n",
    "\n",
    "# Apply the model\n",
    "disease_progress_pred = regr.predict(bmi_test)\n",
    "\n",
    "print('Intercept: ', regr.intercept_)\n",
    "print('Coefficient: ', regr.coef_[0])\n",
    "print('Variance score (R2): %.2f' % r2_score(disease_progress_test, disease_progress_pred))"
   ]
  },
  {
   "cell_type": "code",
   "execution_count": null,
   "metadata": {},
   "outputs": [],
   "source": [
    "plt.scatter(bmi_test, disease_progress_test,  color='black')\n",
    "plt.plot(bmi_test, disease_progress_pred, color='blue', linewidth=3)\n",
    "plt.xlabel('BMI')\n",
    "plt.ylabel('disease progression')\n",
    "\n",
    "plt.show()"
   ]
  },
  {
   "cell_type": "code",
   "execution_count": null,
   "metadata": {
    "collapsed": true
   },
   "outputs": [],
   "source": []
  }
 ],
 "metadata": {
  "kernelspec": {
   "display_name": "Python 3",
   "language": "python",
   "name": "python3"
  },
  "language_info": {
   "codemirror_mode": {
    "name": "ipython",
    "version": 3
   },
   "file_extension": ".py",
   "mimetype": "text/x-python",
   "name": "python",
   "nbconvert_exporter": "python",
   "pygments_lexer": "ipython3",
   "version": "3.6.3"
  }
 },
 "nbformat": 4,
 "nbformat_minor": 2
}
