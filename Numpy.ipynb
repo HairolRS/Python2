{
 "cells": [
  {
   "cell_type": "markdown",
   "metadata": {},
   "source": [
    "# NumPy"
   ]
  },
  {
   "cell_type": "markdown",
   "metadata": {
    "collapsed": true
   },
   "source": [
    "The NumPy library provides support for arrays, matricies and mathematical functions to operate on them. We'll start with the basics and then cover a few more advanced topics."
   ]
  },
  {
   "cell_type": "markdown",
   "metadata": {},
   "source": [
    "## The N-dimensional array (ndarray) and array basics"
   ]
  },
  {
   "cell_type": "markdown",
   "metadata": {},
   "source": [
    "The core of NumPy is the n-dimensional array (ndarray). Although it may seem similar to Python lists or the array.array class, there are some important differences. ndarrays ...\n",
    "\n",
    "+ are homogenous, all elements must be of the same type (unlike list)\n",
    "+ can be multidimensional (unlike array.array)\n",
    "+ have much more functionality\n",
    "\n",
    "We'll dive in with an example. The arange function is analogous to Python's range function, while reshape does exactly what you would expect and reshapes an array into a specified shape.\n",
    "\n",
    "+ ndarray.ndim: number of dimensions or rank\n",
    "+ ndarray.shape: tuple containing the dimensions of the array\n",
    "+ ndarray.dtype: data type of elements\n",
    "+ ndarray.size: total number of elements (product of dimensions)"
   ]
  },
  {
   "cell_type": "code",
   "execution_count": 1,
   "metadata": {},
   "outputs": [],
   "source": [
    "import numpy as np"
   ]
  },
  {
   "cell_type": "code",
   "execution_count": 2,
   "metadata": {},
   "outputs": [],
   "source": [
    "a = np.arange(20).reshape(5,4)"
   ]
  },
  {
   "cell_type": "code",
   "execution_count": 3,
   "metadata": {},
   "outputs": [
    {
     "name": "stdout",
     "output_type": "stream",
     "text": [
      "[[ 0  1  2  3]\n",
      " [ 4  5  6  7]\n",
      " [ 8  9 10 11]\n",
      " [12 13 14 15]\n",
      " [16 17 18 19]]\n"
     ]
    }
   ],
   "source": [
    "print(a)"
   ]
  },
  {
   "cell_type": "code",
   "execution_count": 4,
   "metadata": {},
   "outputs": [
    {
     "data": {
      "text/plain": [
       "2"
      ]
     },
     "execution_count": 4,
     "metadata": {},
     "output_type": "execute_result"
    }
   ],
   "source": [
    "a.ndim"
   ]
  },
  {
   "cell_type": "code",
   "execution_count": 5,
   "metadata": {},
   "outputs": [
    {
     "data": {
      "text/plain": [
       "(5, 4)"
      ]
     },
     "execution_count": 5,
     "metadata": {},
     "output_type": "execute_result"
    }
   ],
   "source": [
    "a.shape"
   ]
  },
  {
   "cell_type": "code",
   "execution_count": 6,
   "metadata": {},
   "outputs": [
    {
     "data": {
      "text/plain": [
       "dtype('int64')"
      ]
     },
     "execution_count": 6,
     "metadata": {},
     "output_type": "execute_result"
    }
   ],
   "source": [
    "a.dtype"
   ]
  },
  {
   "cell_type": "code",
   "execution_count": 7,
   "metadata": {},
   "outputs": [
    {
     "data": {
      "text/plain": [
       "20"
      ]
     },
     "execution_count": 7,
     "metadata": {},
     "output_type": "execute_result"
    }
   ],
   "source": [
    "a.size"
   ]
  },
  {
   "cell_type": "code",
   "execution_count": 8,
   "metadata": {},
   "outputs": [
    {
     "data": {
      "text/plain": [
       "numpy.ndarray"
      ]
     },
     "execution_count": 8,
     "metadata": {},
     "output_type": "execute_result"
    }
   ],
   "source": [
    "type(a)"
   ]
  },
  {
   "cell_type": "markdown",
   "metadata": {},
   "source": [
    "## Arrays creation"
   ]
  },
  {
   "cell_type": "markdown",
   "metadata": {},
   "source": [
    "Arrays can be created from lists or tuples using the array method"
   ]
  },
  {
   "cell_type": "code",
   "execution_count": 9,
   "metadata": {},
   "outputs": [
    {
     "data": {
      "text/plain": [
       "array([1, 2, 3])"
      ]
     },
     "execution_count": 9,
     "metadata": {},
     "output_type": "execute_result"
    }
   ],
   "source": [
    "np.array([1,2,3])"
   ]
  },
  {
   "cell_type": "code",
   "execution_count": 10,
   "metadata": {},
   "outputs": [
    {
     "data": {
      "text/plain": [
       "array([[1, 2, 3],\n",
       "       [4, 5, 6],\n",
       "       [7, 8, 9]])"
      ]
     },
     "execution_count": 10,
     "metadata": {},
     "output_type": "execute_result"
    }
   ],
   "source": [
    "np.array([[1,2,3], [4,5,6], [7,8,9]])"
   ]
  },
  {
   "cell_type": "markdown",
   "metadata": {},
   "source": [
    "NumPy provides functions for creating arrays of arbitrary dimensions containing all zeros or ones. Note that the argument is a tuple of dimensions."
   ]
  },
  {
   "cell_type": "code",
   "execution_count": 11,
   "metadata": {},
   "outputs": [
    {
     "data": {
      "text/plain": [
       "array([[ 0.,  0.,  0.,  0.],\n",
       "       [ 0.,  0.,  0.,  0.],\n",
       "       [ 0.,  0.,  0.,  0.]])"
      ]
     },
     "execution_count": 11,
     "metadata": {},
     "output_type": "execute_result"
    }
   ],
   "source": [
    "np.zeros( (3,4) )"
   ]
  },
  {
   "cell_type": "code",
   "execution_count": 12,
   "metadata": {},
   "outputs": [
    {
     "data": {
      "text/plain": [
       "array([[ 1.,  1.,  1.],\n",
       "       [ 1.,  1.,  1.],\n",
       "       [ 1.,  1.,  1.],\n",
       "       [ 1.,  1.,  1.],\n",
       "       [ 1.,  1.,  1.]])"
      ]
     },
     "execution_count": 12,
     "metadata": {},
     "output_type": "execute_result"
    }
   ],
   "source": [
    "np.ones ( (5,3) )"
   ]
  },
  {
   "cell_type": "markdown",
   "metadata": {},
   "source": [
    "The zeros_like and ones_like functions create arrays filled with zeros or ones, respectively, of the same shape as the argument."
   ]
  },
  {
   "cell_type": "code",
   "execution_count": 13,
   "metadata": {},
   "outputs": [
    {
     "data": {
      "text/plain": [
       "array([[0, 0, 0, 0],\n",
       "       [0, 0, 0, 0],\n",
       "       [0, 0, 0, 0],\n",
       "       [0, 0, 0, 0],\n",
       "       [0, 0, 0, 0]])"
      ]
     },
     "execution_count": 13,
     "metadata": {},
     "output_type": "execute_result"
    }
   ],
   "source": [
    "a = np.arange(20).reshape(5,4)\n",
    "np.zeros_like(a)"
   ]
  },
  {
   "cell_type": "code",
   "execution_count": 14,
   "metadata": {},
   "outputs": [
    {
     "data": {
      "text/plain": [
       "array([[1, 1],\n",
       "       [1, 1],\n",
       "       [1, 1],\n",
       "       [1, 1],\n",
       "       [1, 1],\n",
       "       [1, 1]])"
      ]
     },
     "execution_count": 14,
     "metadata": {},
     "output_type": "execute_result"
    }
   ],
   "source": [
    "a = np.arange(12).reshape(6,2)\n",
    "np.ones_like(a)"
   ]
  },
  {
   "cell_type": "markdown",
   "metadata": {},
   "source": [
    "### Printing arrays"
   ]
  },
  {
   "cell_type": "markdown",
   "metadata": {},
   "source": [
    "As we've seen, arrays can be printed using the built-in print function. To avoid cluttering you screen, only the top and bottom of very large arrays are displayed."
   ]
  },
  {
   "cell_type": "code",
   "execution_count": 15,
   "metadata": {},
   "outputs": [
    {
     "name": "stdout",
     "output_type": "stream",
     "text": [
      "[[   0    1    2    3    4]\n",
      " [   5    6    7    8    9]\n",
      " [  10   11   12   13   14]\n",
      " ..., \n",
      " [9985 9986 9987 9988 9989]\n",
      " [9990 9991 9992 9993 9994]\n",
      " [9995 9996 9997 9998 9999]]\n"
     ]
    }
   ],
   "source": [
    "a = np.arange(10000).reshape(2000,5)\n",
    "print(a)"
   ]
  },
  {
   "cell_type": "markdown",
   "metadata": {},
   "source": [
    "## Array math"
   ]
  },
  {
   "cell_type": "markdown",
   "metadata": {},
   "source": [
    "Basic math operations are performed elementwise on conforming arrays (arrays of the same shape). Scalar arguments are applied to each element\n",
    "\n",
    "Universal functions (ufunc) are applied to each element. Note in the examples below that we did not need to use the map function since the NumPy ufuncs are designed to operate on ndarray arguments"
   ]
  },
  {
   "cell_type": "code",
   "execution_count": 16,
   "metadata": {},
   "outputs": [
    {
     "name": "stdout",
     "output_type": "stream",
     "text": [
      "[[0 1 2]\n",
      " [3 4 5]\n",
      " [6 7 8]]\n",
      "\n",
      "[[ 9 10 11]\n",
      " [12 13 14]\n",
      " [15 16 17]]\n"
     ]
    }
   ],
   "source": [
    "a = np.arange(9).reshape(3,3)\n",
    "b = np.arange(9,18).reshape(3,3)\n",
    "print(a)\n",
    "print()\n",
    "print(b)"
   ]
  },
  {
   "cell_type": "code",
   "execution_count": 17,
   "metadata": {},
   "outputs": [
    {
     "data": {
      "text/plain": [
       "array([[109, 111, 113],\n",
       "       [115, 117, 119],\n",
       "       [121, 123, 125]])"
      ]
     },
     "execution_count": 17,
     "metadata": {},
     "output_type": "execute_result"
    }
   ],
   "source": [
    "a+b + 100"
   ]
  },
  {
   "cell_type": "markdown",
   "metadata": {},
   "source": [
    "Note that the \"\\*\" operator does an elementwise multiplication and is not the linear algebra matrix multiply"
   ]
  },
  {
   "cell_type": "code",
   "execution_count": 18,
   "metadata": {},
   "outputs": [
    {
     "data": {
      "text/plain": [
       "array([[  0,  10,  22],\n",
       "       [ 36,  52,  70],\n",
       "       [ 90, 112, 136]])"
      ]
     },
     "execution_count": 18,
     "metadata": {},
     "output_type": "execute_result"
    }
   ],
   "source": [
    "a*b"
   ]
  },
  {
   "cell_type": "code",
   "execution_count": 19,
   "metadata": {},
   "outputs": [
    {
     "data": {
      "text/plain": [
       "array([[ 2.19722458,  3.14405608,  3.3071927 ],\n",
       "       [ 2.62602666,  1.80814686,  1.68013305],\n",
       "       [ 2.4286347 ,  3.42957532,  3.82257159]])"
      ]
     },
     "execution_count": 19,
     "metadata": {},
     "output_type": "execute_result"
    }
   ],
   "source": [
    "np.sin(a) + np.log(b)"
   ]
  },
  {
   "cell_type": "markdown",
   "metadata": {},
   "source": [
    "## Sum, min, max, argmin, argmax, cumsum"
   ]
  },
  {
   "cell_type": "markdown",
   "metadata": {},
   "source": [
    "The ndarray class has methods for finding the min and max values in an array, their locations (argmin and argmax), the sum and the cumulative sum. When applied to multidimensional arrays, the array is first flattened into a 1d array."
   ]
  },
  {
   "cell_type": "code",
   "execution_count": 20,
   "metadata": {},
   "outputs": [
    {
     "name": "stdout",
     "output_type": "stream",
     "text": [
      "[ 0.69646919  0.28613933  0.22685145  0.55131477  0.71946897  0.42310646]\n"
     ]
    }
   ],
   "source": [
    "np.random.seed(123)\n",
    "a = np.random.rand(6)\n",
    "print(a)"
   ]
  },
  {
   "cell_type": "code",
   "execution_count": 21,
   "metadata": {},
   "outputs": [
    {
     "name": "stdout",
     "output_type": "stream",
     "text": [
      "Min : 0.226851453564\n",
      "Max : 0.719468969786\n",
      "Sum : 2.90335017311\n",
      "Argmin : 2\n",
      "Argmax : 4\n",
      "\n",
      "Cumlative sum :\n",
      " [ 0.69646919  0.98260852  1.20945997  1.76077474  2.48024371  2.90335017]\n"
     ]
    }
   ],
   "source": [
    "print(\"Min :\", a.min())\n",
    "print(\"Max :\", a.max())\n",
    "print(\"Sum :\", a.sum())\n",
    "print(\"Argmin :\", a.argmin())\n",
    "print(\"Argmax :\", a.argmax())\n",
    "\n",
    "print(\"\\nCumlative sum :\\n\", a.cumsum())"
   ]
  },
  {
   "cell_type": "markdown",
   "metadata": {},
   "source": [
    "For multidimensional arrays, many of these functions can take an argument specifying the axis along which the operations should be applied. The result is an array of dimension one lower than the array."
   ]
  },
  {
   "cell_type": "code",
   "execution_count": 22,
   "metadata": {},
   "outputs": [
    {
     "name": "stdout",
     "output_type": "stream",
     "text": [
      "[[ 0.69646919  0.28613933  0.22685145  0.55131477]\n",
      " [ 0.71946897  0.42310646  0.9807642   0.68482974]\n",
      " [ 0.4809319   0.39211752  0.34317802  0.72904971]\n",
      " [ 0.43857224  0.0596779   0.39804426  0.73799541]]\n"
     ]
    }
   ],
   "source": [
    "np.random.seed(123)\n",
    "a = np.random.rand(16).reshape(4,4)\n",
    "print(a)"
   ]
  },
  {
   "cell_type": "code",
   "execution_count": 23,
   "metadata": {},
   "outputs": [
    {
     "name": "stdout",
     "output_type": "stream",
     "text": [
      "Min : [ 0.43857224  0.0596779   0.22685145  0.55131477]\n",
      "Max : [ 0.71946897  0.42310646  0.9807642   0.73799541]\n",
      "Sum : [ 2.3354423   1.16104121  1.94883792  2.70318962]\n",
      "Argmin : [3 3 0 0]\n",
      "Argmax : [1 1 1 3]\n"
     ]
    }
   ],
   "source": [
    "print(\"Min :\", a.min(axis=0))\n",
    "print(\"Max :\", a.max(axis=0))\n",
    "print(\"Sum :\", a.sum(axis=0))\n",
    "print(\"Argmin :\", a.argmin(axis=0))\n",
    "print(\"Argmax :\", a.argmax(axis=0))"
   ]
  },
  {
   "cell_type": "markdown",
   "metadata": {},
   "source": [
    "## Stacking and splitting arrays"
   ]
  },
  {
   "cell_type": "markdown",
   "metadata": {},
   "source": [
    "NumPy provides methods for stacking arrays (hstack, vstack) and splitting arrays (hsplit, vsplit). The stacking methods take as input a tuple containing an arbitrary number of arrays."
   ]
  },
  {
   "cell_type": "code",
   "execution_count": 24,
   "metadata": {},
   "outputs": [
    {
     "name": "stdout",
     "output_type": "stream",
     "text": [
      "[[ 0  1  2  3]\n",
      " [ 4  5  6  7]\n",
      " [ 8  9 10 11]\n",
      " [12 13 14 15]]\n",
      "\n",
      "[[16 17 18 19]\n",
      " [20 21 22 23]\n",
      " [24 25 26 27]\n",
      " [28 29 30 31]]\n"
     ]
    }
   ],
   "source": [
    "a = np.arange(16).reshape(4,4)\n",
    "b = np.arange(16,32).reshape(4,4)\n",
    "print(a)\n",
    "print()\n",
    "print(b)"
   ]
  },
  {
   "cell_type": "code",
   "execution_count": 25,
   "metadata": {},
   "outputs": [
    {
     "data": {
      "text/plain": [
       "array([[ 0,  1,  2,  3],\n",
       "       [ 4,  5,  6,  7],\n",
       "       [ 8,  9, 10, 11],\n",
       "       [12, 13, 14, 15],\n",
       "       [16, 17, 18, 19],\n",
       "       [20, 21, 22, 23],\n",
       "       [24, 25, 26, 27],\n",
       "       [28, 29, 30, 31]])"
      ]
     },
     "execution_count": 25,
     "metadata": {},
     "output_type": "execute_result"
    }
   ],
   "source": [
    "np.vstack( (a,b) )"
   ]
  },
  {
   "cell_type": "code",
   "execution_count": 26,
   "metadata": {},
   "outputs": [
    {
     "name": "stdout",
     "output_type": "stream",
     "text": [
      "[[ 0  1  2  3 16 17 18 19  0  1  2  3 16 17 18 19]\n",
      " [ 4  5  6  7 20 21 22 23  4  5  6  7 20 21 22 23]\n",
      " [ 8  9 10 11 24 25 26 27  8  9 10 11 24 25 26 27]\n",
      " [12 13 14 15 28 29 30 31 12 13 14 15 28 29 30 31]]\n"
     ]
    }
   ],
   "source": [
    "c = np.hstack( (a,b,a,b) )\n",
    "print(c)"
   ]
  },
  {
   "cell_type": "code",
   "execution_count": 27,
   "metadata": {},
   "outputs": [
    {
     "name": "stdout",
     "output_type": "stream",
     "text": [
      "[[ 0  1  2]\n",
      " [ 4  5  6]\n",
      " [ 8  9 10]\n",
      " [12 13 14]]\n",
      "\n",
      "[[ 3 16 17 18 19  0  1  2  3 16 17 18 19]\n",
      " [ 7 20 21 22 23  4  5  6  7 20 21 22 23]\n",
      " [11 24 25 26 27  8  9 10 11 24 25 26 27]\n",
      " [15 28 29 30 31 12 13 14 15 28 29 30 31]]\n"
     ]
    }
   ],
   "source": [
    "(d, e) = np.hsplit(c,(3,))\n",
    "print(d)\n",
    "print()\n",
    "print(e)"
   ]
  },
  {
   "cell_type": "markdown",
   "metadata": {},
   "source": [
    "## Copies"
   ]
  },
  {
   "cell_type": "markdown",
   "metadata": {},
   "source": [
    "Be aware that ndarrays behave the same way as other Python objects when doing a simple assignment"
   ]
  },
  {
   "cell_type": "code",
   "execution_count": 28,
   "metadata": {},
   "outputs": [],
   "source": [
    "a = np.arange(4)\n",
    "b = a"
   ]
  },
  {
   "cell_type": "code",
   "execution_count": 29,
   "metadata": {},
   "outputs": [
    {
     "name": "stdout",
     "output_type": "stream",
     "text": [
      "[0 1 2 3]\n",
      "[7 1 2 3]\n"
     ]
    }
   ],
   "source": [
    "print(a)\n",
    "b[0] = 7\n",
    "print(a)"
   ]
  },
  {
   "cell_type": "markdown",
   "metadata": {},
   "source": [
    "If you really want to copy an array, use the copy method"
   ]
  },
  {
   "cell_type": "code",
   "execution_count": 30,
   "metadata": {},
   "outputs": [],
   "source": [
    "a = np.arange(4)\n",
    "b = a.copy()"
   ]
  },
  {
   "cell_type": "code",
   "execution_count": 31,
   "metadata": {},
   "outputs": [
    {
     "name": "stdout",
     "output_type": "stream",
     "text": [
      "[0 1 2 3]\n",
      "[0 1 2 3]\n"
     ]
    }
   ],
   "source": [
    "print(a)\n",
    "b[0] = 7\n",
    "print(a)"
   ]
  },
  {
   "cell_type": "markdown",
   "metadata": {},
   "source": [
    "## Histograms"
   ]
  },
  {
   "cell_type": "markdown",
   "metadata": {},
   "source": [
    "Although most plotting packages have the capabilities to directly generate a histogram from a data set, sometimes you just want the result and not the plot. This can be done using the NumPy histogram method. In its simplest form, the method just takes an array and the number of bins"
   ]
  },
  {
   "cell_type": "code",
   "execution_count": 32,
   "metadata": {},
   "outputs": [
    {
     "data": {
      "image/png": "[encoded data removed]",
      "text/plain": [
       "<matplotlib.figure.Figure at 0x7f186c17afd0>"
      ]
     },
     "metadata": {},
     "output_type": "display_data"
    }
   ],
   "source": [
    "mu, sigma = 2, 0.5\n",
    "v = np.random.normal(mu,sigma,10000)\n",
    "(hist, bin_edges) = np.histogram(v, bins=50)\n",
    "\n",
    "import matplotlib.pyplot as plt\n",
    "plt.plot(.5*(bin_edges[1:]+bin_edges[:-1]), hist)\n",
    "plt.show()"
   ]
  },
  {
   "cell_type": "markdown",
   "metadata": {},
   "source": [
    "## Linear algebra"
   ]
  },
  {
   "cell_type": "markdown",
   "metadata": {},
   "source": [
    "NumPy provides a comprehensive set of linear algebra capabilities. We demonstrate a few of these below. A convenient summary of of these capabilities can be found here https://docs.scipy.org/doc/numpy-1.13.0/reference/routines.linalg.html"
   ]
  },
  {
   "cell_type": "markdown",
   "metadata": {},
   "source": [
    "In this first example, we calculate the inverse of a matrix and then confirm that the product of the matrix and its inverse is equal to the identity matrix"
   ]
  },
  {
   "cell_type": "code",
   "execution_count": 33,
   "metadata": {},
   "outputs": [
    {
     "data": {
      "text/plain": [
       "False"
      ]
     },
     "execution_count": 33,
     "metadata": {},
     "output_type": "execute_result"
    }
   ],
   "source": [
    "A = np.random.rand(4,4)      # Populate matrix with randon values\n",
    "Ainv = np.linalg.inv(A)      # Calculate the inverse\n",
    "I = np.eye(4)                # Identity matrix used for testing \n",
    "AxAinv = np.matmul(A, Ainv)  # Matrix multiplication\n",
    "np.all(AxAinv == I)          # Test if all elements of A x Ainv are true"
   ]
  },
  {
   "cell_type": "markdown",
   "metadata": {},
   "source": [
    "What happened? Wouldn't we expect the matrix multipied by its inverse to be equal to the identity matrix? Let's take a look at the content of the arrays."
   ]
  },
  {
   "cell_type": "code",
   "execution_count": 34,
   "metadata": {},
   "outputs": [
    {
     "name": "stdout",
     "output_type": "stream",
     "text": [
      "Matrix A\n",
      "[[ 0.90553761  0.3491035   0.01878307  0.21474258]\n",
      " [ 0.42990531  0.43566402  0.54816385  0.8233592 ]\n",
      " [ 0.33177785  0.78546986  0.46148833  0.20164153]\n",
      " [ 0.36477242  0.63998744  0.69290713  0.47342497]] \n",
      "\n",
      "Inverse of matrix A\n",
      "[[ 1.42991476 -1.02893323 -1.5228803   1.78949998]\n",
      " [-0.52207461  1.11761668  3.48566067 -3.19151373]\n",
      " [ 0.09321778 -2.35441611 -3.12018731  5.38136317]\n",
      " [-0.53242551  2.72790331  1.02809474 -2.82836043]] \n",
      "\n",
      "Product A x Ainv\n",
      "[[  1.00000000e+00   0.00000000e+00   5.55111512e-17   0.00000000e+00]\n",
      " [  0.00000000e+00   1.00000000e+00  -3.33066907e-16   4.44089210e-16]\n",
      " [ -1.66533454e-16   2.22044605e-16   1.00000000e+00  -1.11022302e-16]\n",
      " [ -1.11022302e-16   0.00000000e+00   0.00000000e+00   1.00000000e+00]] \n",
      "\n",
      "Identity matrix\n",
      "[[ 1.  0.  0.  0.]\n",
      " [ 0.  1.  0.  0.]\n",
      " [ 0.  0.  1.  0.]\n",
      " [ 0.  0.  0.  1.]]\n"
     ]
    }
   ],
   "source": [
    "print(\"Matrix A\")\n",
    "print(A, \"\\n\")\n",
    "print(\"Inverse of matrix A\")\n",
    "print(Ainv, \"\\n\")\n",
    "print(\"Product A x Ainv\")\n",
    "print(AxAinv, \"\\n\")\n",
    "print(\"Identity matrix\")\n",
    "print(I)"
   ]
  },
  {
   "cell_type": "markdown",
   "metadata": {},
   "source": [
    "We forgot to take into account the fact that floating point math involves rounding errors. Fortunately, these floating point comparisons are so common that numpy provides a function for testing whether results agree to within a tolerance."
   ]
  },
  {
   "cell_type": "code",
   "execution_count": 35,
   "metadata": {},
   "outputs": [
    {
     "data": {
      "text/plain": [
       "True"
      ]
     },
     "execution_count": 35,
     "metadata": {},
     "output_type": "execute_result"
    }
   ],
   "source": [
    "np.allclose(AxAinv, I)"
   ]
  },
  {
   "cell_type": "markdown",
   "metadata": {},
   "source": [
    "As a second example, we'll solve the eigenvalue problem Hx = λx and confirm that the sum over the eigenvalues is equal to the trace of the matrix. Don't worry if you're unfamiliar with eigenvalue problems. These come up in many scientific and engineering problems and are used in the machine learning technique principal component analysis (PCA)."
   ]
  },
  {
   "cell_type": "code",
   "execution_count": 36,
   "metadata": {},
   "outputs": [
    {
     "data": {
      "text/plain": [
       "True"
      ]
     },
     "execution_count": 36,
     "metadata": {},
     "output_type": "execute_result"
    }
   ],
   "source": [
    "eigvals = np.linalg.eigvals(A)\n",
    "eigvals_sum = eigvals.sum()\n",
    "trace = np.trace(A)\n",
    "np.allclose(eigvals_sum, trace)"
   ]
  },
  {
   "cell_type": "markdown",
   "metadata": {},
   "source": [
    "## Random sampling"
   ]
  },
  {
   "cell_type": "markdown",
   "metadata": {},
   "source": [
    "Numpy contains an extensive set of functions for generating samplings from random distributions. For the full set of functions, see https://docs.scipy.org/doc/numpy-1.13.0/reference/routines.random.html"
   ]
  },
  {
   "cell_type": "markdown",
   "metadata": {},
   "source": [
    "The random.rand() function returns an array of floating point values between 0 ≤ x < 1, with the argument specifying the dimensions of the array. We saw this earlier, in the discussion of linear algeba funcions, but without explanation."
   ]
  },
  {
   "cell_type": "code",
   "execution_count": 37,
   "metadata": {},
   "outputs": [
    {
     "data": {
      "text/plain": [
       "array([ 0.10907356,  0.28531668,  0.93306458,  0.66983283,  0.53323553,\n",
       "        0.61277927,  0.86410959,  0.98047986,  0.26844615,  0.8989367 ])"
      ]
     },
     "execution_count": 37,
     "metadata": {},
     "output_type": "execute_result"
    }
   ],
   "source": [
    "np.random.rand(10)"
   ]
  },
  {
   "cell_type": "code",
   "execution_count": 38,
   "metadata": {},
   "outputs": [
    {
     "data": {
      "text/plain": [
       "array([[ 0.2697794 ,  0.07437439,  0.64219329,  0.7948267 ],\n",
       "       [ 0.7027967 ,  0.34430167,  0.04163668,  0.22708323],\n",
       "       [ 0.36225732,  0.99812157,  0.56178248,  0.58425461],\n",
       "       [ 0.21611783,  0.81738305,  0.005409  ,  0.65411136]])"
      ]
     },
     "execution_count": 38,
     "metadata": {},
     "output_type": "execute_result"
    }
   ],
   "source": [
    "np.random.rand(4,4)"
   ]
  },
  {
   "cell_type": "code",
   "execution_count": 39,
   "metadata": {},
   "outputs": [
    {
     "data": {
      "text/plain": [
       "array([[[ 0.38373161,  0.64473773,  0.26193407],\n",
       "        [ 0.87365637,  0.53666328,  0.29251293],\n",
       "        [ 0.51022266,  0.79682803,  0.88425962]],\n",
       "\n",
       "       [[ 0.84423737,  0.85855229,  0.85831302],\n",
       "        [ 0.18222367,  0.64214835,  0.25397529],\n",
       "        [ 0.46093213,  0.93434437,  0.7036276 ]],\n",
       "\n",
       "       [[ 0.40167112,  0.15803781,  0.69315088],\n",
       "        [ 0.61848046,  0.64817606,  0.3902677 ],\n",
       "        [ 0.0442045 ,  0.81781409,  0.77493736]]])"
      ]
     },
     "execution_count": 39,
     "metadata": {},
     "output_type": "execute_result"
    }
   ],
   "source": [
    "np.random.rand(3,3,3)"
   ]
  },
  {
   "cell_type": "markdown",
   "metadata": {},
   "source": [
    "random.randimt(low, [,high ,size]) generates random integers between low (inclusive) and high (exclusive), with size setting the number of random integers returned"
   ]
  },
  {
   "cell_type": "code",
   "execution_count": 40,
   "metadata": {},
   "outputs": [
    {
     "data": {
      "text/plain": [
       "array([2, 2, 3, 6, 2, 5, 3, 3, 4, 6, 1, 6, 5, 6, 4, 2, 6, 2, 6, 3, 6, 1, 3,\n",
       "       5, 6, 5, 6, 5, 5, 2, 4, 2, 1, 5, 1, 1, 6, 5, 3, 6, 4, 2, 3, 1, 5, 5,\n",
       "       6, 4, 3, 6, 6, 4, 6, 1, 6, 4, 6, 2, 6, 6, 4, 4, 5, 5, 6, 4, 6, 2, 1,\n",
       "       4, 6, 5, 6, 1, 4, 4, 1, 3, 6, 3, 5, 1, 5, 4, 4, 1, 6, 3, 3, 3, 4, 6,\n",
       "       5, 2, 4, 2, 1, 5, 3, 6])"
      ]
     },
     "execution_count": 40,
     "metadata": {},
     "output_type": "execute_result"
    }
   ],
   "source": [
    "np.random.randint(1,7,100)"
   ]
  },
  {
   "cell_type": "markdown",
   "metadata": {},
   "source": [
    "random.randn() samples a normal distribution with mean 0 and standard deviation 1"
   ]
  },
  {
   "cell_type": "code",
   "execution_count": 41,
   "metadata": {},
   "outputs": [
    {
     "data": {
      "text/plain": [
       "array([[ 0.63116972, -1.73836663, -0.44176693,  0.59618155, -1.70313142],\n",
       "       [ 0.33847276,  1.05857895,  0.68398476, -0.91119956, -0.69131798],\n",
       "       [ 0.73665637,  0.33307578,  1.24909313, -1.37381538, -1.3639383 ],\n",
       "       [-0.65155781, -0.99280722, -0.37658655, -0.00511713, -1.49188858],\n",
       "       [-0.35612259,  0.19870999, -0.72351776, -0.21422377,  0.40551945]])"
      ]
     },
     "execution_count": 41,
     "metadata": {},
     "output_type": "execute_result"
    }
   ],
   "source": [
    "np.random.randn(5,5)"
   ]
  },
  {
   "cell_type": "markdown",
   "metadata": {},
   "source": [
    "To convert to a normal distribution with a different mean ($\\mu$) and standard deviation ($\\sigma$), multiply results by sigma and add mu"
   ]
  },
  {
   "cell_type": "code",
   "execution_count": 42,
   "metadata": {},
   "outputs": [
    {
     "data": {
      "text/plain": [
       "array([ 5.14938549,  5.38897374,  5.51315471,  5.16802521,  4.81803226,\n",
       "        5.07241934,  5.2719953 ,  5.53741929,  6.02608204,  5.13784721,\n",
       "        5.01754471,  4.48931958,  4.02599793,  5.96125335,  5.91920031,\n",
       "        5.74117287,  5.19562785,  5.54516599,  5.40298004,  4.94522871,\n",
       "        4.61516916,  4.88477814,  5.0694626 ,  4.10695006,  5.38603891])"
      ]
     },
     "execution_count": 42,
     "metadata": {},
     "output_type": "execute_result"
    }
   ],
   "source": [
    "sigma, mu = 0.5, 5\n",
    "np.random.randn(25)*sigma + mu"
   ]
  },
  {
   "cell_type": "markdown",
   "metadata": {},
   "source": [
    "random.binomial(n,p [,size]) samples a binomial distribution with n trials, probability p. A third optional argument (size) specifies the number of samples to be generated"
   ]
  },
  {
   "cell_type": "code",
   "execution_count": 43,
   "metadata": {},
   "outputs": [
    {
     "data": {
      "text/plain": [
       "array([6, 3, 2, 3, 3, 5, 1, 1, 0, 2, 3, 4, 3, 3, 3, 5, 4, 2, 1, 1, 2, 3, 4,\n",
       "       1, 4, 3, 2, 5, 3, 1, 4, 4, 4, 3, 2, 2, 2, 3, 3, 2, 5, 2, 1, 4, 2, 2,\n",
       "       2, 3, 4, 3, 1, 3, 4, 1, 2, 5, 5, 4, 4, 2, 1, 2, 3, 3, 4, 5, 1, 2, 5,\n",
       "       1, 2, 4, 4, 3, 2, 2, 5, 1, 6, 4, 1, 4, 2, 2, 4, 3, 4, 2, 3, 5, 4, 4,\n",
       "       3, 4, 3, 3, 1, 3, 5, 2])"
      ]
     },
     "execution_count": 43,
     "metadata": {},
     "output_type": "execute_result"
    }
   ],
   "source": [
    "# This will return the number of heads from six (n) flips of a fair coin (p)\n",
    "n, p = 6, 0.5\n",
    "np.random.binomial(n, p, 100)"
   ]
  },
  {
   "cell_type": "markdown",
   "metadata": {},
   "source": [
    "Many machine learning applications require that we either permute the data or draw a subsample of the data. This can be done with random.permutation() and random.choice() functions."
   ]
  },
  {
   "cell_type": "code",
   "execution_count": 44,
   "metadata": {},
   "outputs": [
    {
     "name": "stdout",
     "output_type": "stream",
     "text": [
      "['c' 'a' 'b' 'd' 'e']\n",
      "['a' 'd' 'e' 'b' 'c']\n",
      "['b' 'e' 'd' 'a' 'c']\n",
      "['a' 'c' 'e' 'd' 'b']\n",
      "['a' 'c' 'e' 'd' 'b']\n",
      "['a' 'd' 'e' 'b' 'c']\n",
      "['e' 'd' 'b' 'c' 'a']\n",
      "['d' 'e' 'c' 'b' 'a']\n",
      "['d' 'a' 'e' 'b' 'c']\n",
      "['a' 'b' 'e' 'c' 'd']\n"
     ]
    }
   ],
   "source": [
    "# Generate permutations of a list\n",
    "x = np.array(['a', 'b', 'c', 'd', 'e'])\n",
    "for i in range(10):\n",
    "    print(np.random.permutation(x))"
   ]
  },
  {
   "cell_type": "code",
   "execution_count": 45,
   "metadata": {},
   "outputs": [
    {
     "name": "stdout",
     "output_type": "stream",
     "text": [
      "['b' 'e' 'd' 'c']\n",
      "['b' 'a' 'a' 'd']\n",
      "['d' 'd' 'b' 'c']\n",
      "['e' 'd' 'b' 'c']\n",
      "['e' 'd' 'e' 'e']\n",
      "['b' 'b' 'c' 'c']\n",
      "['e' 'b' 'e' 'd']\n",
      "['b' 'c' 'a' 'd']\n",
      "['e' 'c' 'e' 'c']\n",
      "['b' 'e' 'e' 'e']\n"
     ]
    }
   ],
   "source": [
    "# Random select 4 elemnts from a list with replacement allowed\n",
    "y = np.array(['a', 'b', 'c', 'd', 'e', 'f', 'g', 'g'])\n",
    "for i in range(10):\n",
    "    print(np.random.choice(x, 4))"
   ]
  },
  {
   "cell_type": "code",
   "execution_count": 46,
   "metadata": {},
   "outputs": [
    {
     "name": "stdout",
     "output_type": "stream",
     "text": [
      "['d' 'e' 'c' 'a']\n",
      "['d' 'a' 'c' 'b']\n",
      "['d' 'b' 'e' 'c']\n",
      "['c' 'b' 'd' 'e']\n",
      "['a' 'c' 'e' 'd']\n",
      "['a' 'e' 'd' 'b']\n",
      "['e' 'b' 'c' 'd']\n",
      "['d' 'e' 'a' 'b']\n",
      "['d' 'b' 'e' 'c']\n",
      "['b' 'a' 'c' 'e']\n"
     ]
    }
   ],
   "source": [
    "# Random select 4 elemnts from a list without replacement\n",
    "y = np.array(['a', 'b', 'c', 'd', 'e', 'f', 'g', 'g'])\n",
    "for i in range(10):\n",
    "    print(np.random.choice(x, 4, replace=False))"
   ]
  },
  {
   "cell_type": "markdown",
   "metadata": {},
   "source": [
    "An especially useful feature of np.random.choice is the ability to choose elements from an uneven probability distribution. This might arise, for example, in bioinformatics applications where we want to select amino acids with the probabilities that they appear in an organism."
   ]
  },
  {
   "cell_type": "code",
   "execution_count": 49,
   "metadata": {},
   "outputs": [
    {
     "data": {
      "text/plain": [
       "Counter({'A': 1009, 'B': 1999, 'C': 6992})"
      ]
     },
     "execution_count": 49,
     "metadata": {},
     "output_type": "execute_result"
    }
   ],
   "source": [
    "from collections import Counter\n",
    "\n",
    "x = ['A', 'B', 'C']\n",
    "probs = [0.1, 0.2, 0.7]\n",
    "sampling = np.random.choice(x, size=10000, p=probs)\n",
    "Counter(sampling)"
   ]
  },
  {
   "cell_type": "code",
   "execution_count": null,
   "metadata": {},
   "outputs": [],
   "source": []
  }
 ],
 "metadata": {
  "kernelspec": {
   "display_name": "Python 3",
   "language": "python",
   "name": "python3"
  },
  "language_info": {
   "codemirror_mode": {
    "name": "ipython",
    "version": 3
   },
   "file_extension": ".py",
   "mimetype": "text/x-python",
   "name": "python",
   "nbconvert_exporter": "python",
   "pygments_lexer": "ipython3",
   "version": "3.6.0"
  }
 },
 "nbformat": 4,
 "nbformat_minor": 2
}
